{
 "cells": [
  {
   "cell_type": "markdown",
   "metadata": {},
   "source": [
    "# Buckets creation, and notifications configuration"
   ]
  },
  {
   "cell_type": "markdown",
   "metadata": {},
   "source": [
    "First, of all, if you've never used a Jupyter notebook before, here are a few information:\n",
    "- A notebook is an environment where you have *cells* that can display formatted text (like the present cell), or code (as you will see below).\n",
    "- Code cells contain Python code that can be run interactively. Thats means you can modify the code, as you will do in the first code cell, then run it. The code will not run on you computer or in the browser, but directly on the server you are connected to.\n",
    "- To run a code cell, just select it (click in the cell, or on the left side of it), and click the \"Run/Play\" button from the toolbar.\n",
    "- You can also press CTRL+Enter to run a cell, or Shift+Enter to run the cell and automatically select the following one.\n",
    "- You can navigate between cells with Up and Down arrows (on your keyboard or in the toolbar).\n",
    "\n",
    "With this (very) quick turorial, you should be able to run the different parts of this notebook. If you still have a doubt, here is a longer tutorial: https://www.codecademy.com/articles/how-to-use-jupyter-notebooks"
   ]
  },
  {
   "cell_type": "markdown",
   "metadata": {},
   "source": [
    "# Preparatory steps"
   ]
  },
  {
   "cell_type": "markdown",
   "metadata": {},
   "source": [
    "## ---==== REALLY IMPORTANT STEP! ====---\n",
    "### Please read carefully and make all the requested changes. There are 4 to make.\n",
    "## Parameters\n",
    "\n",
    "We will first start by setting some paramaters that will be used in this notebook. Replace the one that are indicated with the needed values, and run the cell."
   ]
  },
  {
   "cell_type": "code",
   "execution_count": 3,
   "metadata": {
    "ExecuteTime": {
     "end_time": "2021-04-29T14:02:16.674700Z",
     "start_time": "2021-04-29T14:02:16.670588Z"
    }
   },
   "outputs": [
    {
     "name": "stdout",
     "output_type": "stream",
     "text": [
      "TA9TYEX3SGFIN0RFSPFQ\n",
      "wSnnSvAb0sKwKX4jtxWEpFcwjRcMVIUdHpAZApEt\n",
      "http://ceph-nano-0\n"
     ]
    }
   ],
   "source": [
    "import os\n",
    "# Warning!!!: On all those variables, don't remove the starting/ending quotes when doing copy/paste\n",
    "\n",
    "# Enter you bucket base name. That's the same one you have put in the config map. It should be identical as your namespace if you have followed instructions.\n",
    "bucket_base_name = 'images'\n",
    "\n",
    "# Enter you Access and Secret keys. They're the ones that were displayed in the instructions.\n",
    "aws_access_key_id = os.getenv('AWS_ACCESS_KEY_ID')\n",
    "aws_secret_access_key = os.getenv('AWS_SECRET_ACCESS_KEY')\n",
    "\n",
    "print(aws_access_key_id)\n",
    "print(aws_secret_access_key)\n",
    "\n",
    "# Do not change this value, this is the internal location for the RGW\n",
    "endpoint_url = os.getenv('S3_ENDPOINT_URL')\n",
    "\n",
    "print(endpoint_url)"
   ]
  },
  {
   "cell_type": "markdown",
   "metadata": {},
   "source": [
    "## Imports\n",
    "Of course we'll need some libraries, so import them by running the cell."
   ]
  },
  {
   "cell_type": "code",
   "execution_count": 32,
   "metadata": {
    "ExecuteTime": {
     "end_time": "2021-04-28T02:35:37.873441Z",
     "start_time": "2021-04-28T02:35:37.871095Z"
    }
   },
   "outputs": [],
   "source": [
    "import boto3\n",
    "import json\n",
    "import botocore\n",
    "import argparse"
   ]
  },
  {
   "cell_type": "markdown",
   "metadata": {},
   "source": [
    "## S3 and SNS connections\n",
    "The boto3 is the standard library from AWS to interact with all their services. As Ceph is compatible with S3 and SNS, we can directly use this library to interact with the storage. So first, let's create the clients (you can see we are using some parameters we defined earlier)."
   ]
  },
  {
   "cell_type": "code",
   "execution_count": 36,
   "metadata": {
    "ExecuteTime": {
     "end_time": "2021-04-28T02:36:03.981225Z",
     "start_time": "2021-04-28T02:36:03.966876Z"
    },
    "code_folding": []
   },
   "outputs": [],
   "source": [
    "s3 = boto3.client('s3', '',\n",
    "                endpoint_url = os.getenv('S3_ENDPOINT_URL'),\n",
    "                aws_access_key_id = aws_access_key_id,\n",
    "                aws_secret_access_key = aws_secret_access_key,\n",
    "                config=botocore.client.Config(signature_version = 's3'))\n"
   ]
  },
  {
   "cell_type": "markdown",
   "metadata": {},
   "source": [
    "## Create buckets\n",
    "Now that we can connect to the storage, we can create our buckets. Run the first cell, which will define a \"creation function\" (an S3 API call using the client we created). Then the second cell that will create the 3 buckets we will need."
   ]
  },
  {
   "cell_type": "code",
   "execution_count": 37,
   "metadata": {
    "ExecuteTime": {
     "end_time": "2021-04-28T02:36:05.097054Z",
     "start_time": "2021-04-28T02:36:05.090527Z"
    }
   },
   "outputs": [],
   "source": [
    "def create_bucket(bucket_name):\n",
    "    result = s3.create_bucket(Bucket=bucket_name)\n",
    "    return result"
   ]
  },
  {
   "cell_type": "code",
   "execution_count": 38,
   "metadata": {
    "ExecuteTime": {
     "end_time": "2021-04-28T02:36:05.891729Z",
     "start_time": "2021-04-28T02:36:05.838827Z"
    }
   },
   "outputs": [
    {
     "data": {
      "text/plain": [
       "{'ResponseMetadata': {'RequestId': 'tx000000000000000000009-006088ca15-1010-default',\n",
       "  'HostId': '',\n",
       "  'HTTPStatusCode': 200,\n",
       "  'HTTPHeaders': {'x-amz-request-id': 'tx000000000000000000009-006088ca15-1010-default',\n",
       "   'content-length': '0',\n",
       "   'date': 'Wed, 28 Apr 2021 02:36:05 GMT',\n",
       "   'connection': 'Keep-Alive'},\n",
       "  'RetryAttempts': 0}}"
      ]
     },
     "execution_count": 38,
     "metadata": {},
     "output_type": "execute_result"
    }
   ],
   "source": [
    "create_bucket(bucket_base_name)\n",
    "create_bucket(bucket_base_name+'-processed')\n",
    "create_bucket(bucket_base_name+'-anonymized')"
   ]
  },
  {
   "cell_type": "markdown",
   "metadata": {},
   "source": [
    "### Verification\n",
    "As the previous output may have been cryptic (and anyway it's always good to check), let's list all the buckets and verify the indeed have been created."
   ]
  },
  {
   "cell_type": "code",
   "execution_count": 39,
   "metadata": {
    "ExecuteTime": {
     "end_time": "2021-04-28T02:36:07.983433Z",
     "start_time": "2021-04-28T02:36:07.972300Z"
    }
   },
   "outputs": [
    {
     "name": "stdout",
     "output_type": "stream",
     "text": [
      "bucket-base-user1\n",
      "bucket-base-user1-anonymized\n",
      "bucket-base-user1-processed\n",
      "covid\n"
     ]
    }
   ],
   "source": [
    "for bucket in s3.list_buckets()['Buckets']:\n",
    "    print(bucket['Name'])"
   ]
  },
  {
   "cell_type": "markdown",
   "metadata": {},
   "source": [
    "## Make buckets public read\n",
    "Our Grafana dashboard will display the last image from each bucket. Instead of setting up a dedicated web server, we can directly query our object stores to retrieve the images. For this to work we have to make our bucket \"public-readable\". This is done by applying to each this bucket policy."
   ]
  },
  {
   "cell_type": "code",
   "execution_count": 40,
   "metadata": {
    "ExecuteTime": {
     "end_time": "2021-04-28T02:36:09.667036Z",
     "start_time": "2021-04-28T02:36:09.620467Z"
    }
   },
   "outputs": [],
   "source": [
    "for bucket in s3.list_buckets()['Buckets']:\n",
    "    bucket_policy = {\n",
    "                      \"Version\":\"2012-10-17\",\n",
    "                      \"Statement\":[\n",
    "                        {\n",
    "                          \"Sid\":\"AddPerm\",\n",
    "                          \"Effect\":\"Allow\",\n",
    "                          \"Principal\": \"*\",\n",
    "                          \"Action\":[\"s3:GetObject\"],\n",
    "                          \"Resource\":[\"arn:aws:s3:::{0}/*\".format(bucket['Name'])]\n",
    "                        }\n",
    "                      ]\n",
    "                    }\n",
    "    bucket_policy = json.dumps(bucket_policy)\n",
    "    s3.put_bucket_policy(Bucket=bucket['Name'], Policy=bucket_policy)"
   ]
  }
 ],
 "metadata": {
  "kernelspec": {
   "display_name": "Python 3",
   "language": "python",
   "name": "python3"
  },
  "language_info": {
   "codemirror_mode": {
    "name": "ipython",
    "version": 3
   },
   "file_extension": ".py",
   "mimetype": "text/x-python",
   "name": "python",
   "nbconvert_exporter": "python",
   "pygments_lexer": "ipython3",
   "version": "3.6.8"
  },
  "toc": {
   "base_numbering": 1,
   "nav_menu": {},
   "number_sections": true,
   "sideBar": true,
   "skip_h1_title": false,
   "title_cell": "Table of Contents",
   "title_sidebar": "Contents",
   "toc_cell": false,
   "toc_position": {},
   "toc_section_display": true,
   "toc_window_display": false
  }
 },
 "nbformat": 4,
 "nbformat_minor": 2
}
